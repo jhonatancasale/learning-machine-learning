{
 "cells": [
  {
   "cell_type": "markdown",
   "metadata": {},
   "source": [
    "\n",
    "# Multilayer Perceptron"
   ]
  },
  {
   "cell_type": "code",
   "execution_count": 1,
   "metadata": {
    "collapsed": true
   },
   "outputs": [],
   "source": [
    "from math import exp\n",
    "import numpy as np\n",
    "import pandas as pd\n",
    "import matplotlib.pyplot as plt\n",
    "\n",
    "%matplotlib inline"
   ]
  },
  {
   "cell_type": "code",
   "execution_count": 2,
   "metadata": {
    "collapsed": false
   },
   "outputs": [],
   "source": [
    "def load_dataset(filename: str) -> pd.DataFrame:\n",
    "    '''Load and return the content of `filename` into a Pandas DataFrame'''\n",
    "    \n",
    "    \n",
    "    return pd.read_csv(filename, delim_whitespace=True)"
   ]
  },
  {
   "cell_type": "code",
   "execution_count": 3,
   "metadata": {
    "collapsed": true
   },
   "outputs": [],
   "source": [
    "def split_dataset(dataset: pd.DataFrame) -> (list, list, list, list):\n",
    "    '''Split the `dataset` into 4 lists: 2 for training and 2 to test the prediction'''\n",
    "    \n",
    "    \n",
    "    labels_train = dataset.values[:,-1]\n",
    "    training_samples = dataset.values[:,:-1]\n",
    "\n",
    "    theta = np.ones((labels_train.size, 1))\n",
    "    training_samples = np.concatenate((training_samples, theta), axis=1)\n",
    "    \n",
    "    return training_samples, training_samples[:], labels_train, labels_train[:]"
   ]
  },
  {
   "cell_type": "code",
   "execution_count": 4,
   "metadata": {
    "collapsed": false
   },
   "outputs": [],
   "source": [
    "class MLP(object):\n",
    "    '''Implements a Multilayer Percemptron (MLP) Artificial Neural Network (ANN)'''\n",
    "\n",
    "\n",
    "    def __init__(self: object, *, input_layer: int, hidden: int, output: int):\n",
    "        self.error = np.inf\n",
    "        self.errors = []\n",
    "\n",
    "        self.layers = {}\n",
    "        self.layers['hidden'] = self.create_layer(hidden, input_layer + 1)\n",
    "        self.layers['output'] = self.create_layer(output, hidden + 1)\n",
    "        \n",
    "        self.hidden_shape = (hidden, input_layer + 1)\n",
    "        self.output_shape = (output, hidden + 1)\n",
    "\n",
    "\n",
    "    def create_layer(self: object, rows: int, columns: int) -> np.array:\n",
    "        #np.random.random -> [0.0, 1.0) with - .5 --> [-0.5, 0.5)\n",
    "        return np.random.random(rows * columns).reshape(rows, columns) - .5\n",
    "\n",
    "\n",
    "    def forward(self: object, pattern: list) -> dict:\n",
    "        forward_values = {}\n",
    "        \n",
    "        self.config_forward('hidden', pattern, ['hidden', 'hidden_df'], forward_values)\n",
    "        \n",
    "        pattern = np.concatenate((forward_values['hidden'], [1.]), axis=0)\n",
    "        self.config_forward('output', pattern, ['output', 'output_df'], forward_values)\n",
    "            \n",
    "        return forward_values\n",
    "\n",
    "    \n",
    "    def apply_forward(self: object, keys: list, forward_values: dict, nets: np.array) -> dict:\n",
    "        for key in keys:\n",
    "            func = self.df_dnet if key.endswith('_df') else self.neuron_output\n",
    "            forward_values[key] = func(nets) if nets.size == 1 else [func(net) for net in nets]\n",
    "        return forward_values\n",
    "    \n",
    "    \n",
    "    def config_forward(self: object, layer_name: str, pattern: list, \n",
    "                       keys: list, forward_values: \n",
    "                       dict) -> dict:\n",
    "            layer = self.layers[layer_name]\n",
    "            nets = layer.dot(pattern)\n",
    "            return self.apply_forward(keys, forward_values, nets)\n",
    "\n",
    "        \n",
    "    def fit(self: object, training_samples: list, labels_train: list,\n",
    "            learning_rate=.1, max_iterations=int(1e4), error=1e-2) -> None:\n",
    "        '''\n",
    "        Perform Backpropagation algorithm until the cost function produces a\n",
    "        square error lesser than the (optional) given param `error`. Or until\n",
    "        hit the (optional) given param `max_iterations`\n",
    "        '''\n",
    "\n",
    "        \n",
    "        for age in range(2 ** 32):\n",
    "            squared_error = 0\n",
    "            \n",
    "            for pattern, label in zip(training_samples, labels_train):\n",
    "                fwd = self.forward(pattern)\n",
    "                obtained = fwd['output']\n",
    "                \n",
    "                delta_pattern = label - obtained\n",
    "                squared_error += np.sum(delta_pattern ** 2)\n",
    "                \n",
    "                delta_output = delta_pattern * fwd['output_df']\n",
    "                delta_hidden = fwd['hidden_df'] * (np.dot(delta_output, self.layers['output'][0][:-1]))\n",
    "                \n",
    "                self.layers['output'] += learning_rate * (np.dot(delta_output, fwd['hidden'] + [1.]))\n",
    "                self.layers['hidden'] += learning_rate * (\n",
    "                    np.dot(np.matrix(delta_hidden).transpose(), np.matrix(pattern)))\n",
    "                \n",
    "            squared_error /= len(training_samples)\n",
    "            self.errors.append(squared_error)\n",
    "            self.error = squared_error\n",
    "                    \n",
    "            if squared_error < error:\n",
    "                break\n",
    "\n",
    "\n",
    "    def predict(self: object, test_samples: list) -> list:\n",
    "        '''\n",
    "        Make a prediction to the given param `test_samples`\n",
    "        '''\n",
    "\n",
    "        \n",
    "        return [self.forward(sample)['output'] for sample in test_samples]\n",
    "\n",
    "\n",
    "    def df_dnet(self: object, net: int) -> float:\n",
    "        '''Returns f(net) * (1 - f(net))'''\n",
    "\n",
    "        return self.neuron_output(net) * (1 - self.neuron_output(net))\n",
    "\n",
    "\n",
    "    def neuron_output(self: object, net: int) -> float:\n",
    "        '''\n",
    "        '''\n",
    "        return 1 / (1 + exp(-net))\n",
    "\n",
    "    \n",
    "    def __str__(self: object) -> None:\n",
    "        format_str = \"Hidden weights\\n{}\\nOutput weights\\n{}\"\n",
    "        return format_str.format(self.layers['hidden'], self.layers['output'])\n",
    "\n",
    "\n",
    "    def plot_errors(self: object) -> None:\n",
    "        '''\n",
    "        Generate a plot with the error curve obtained during the last training\n",
    "        of the MLP\n",
    "        '''\n",
    "\n",
    "\n",
    "        plt.xlabel(\"$Iterations$\")\n",
    "        plt.ylabel(\"$Error - (MSE)$\")\n",
    "        plt.plot(\n",
    "            self.errors, \"b{}-\".format(\"o\" if len(self.errors) < 25 else \"\"),\n",
    "            label=\"Mean Square Error (MSE) in the first {} iterations\".\n",
    "            format(len(self.errors))\n",
    "        )\n",
    "        plt.legend(loc=\"upper right\")\n",
    "        plt.axis([-.1, len(self.errors), -.1, max(self.errors) + .5])\n",
    "        plt.grid(True)\n",
    "        plt.show()"
   ]
  },
  {
   "cell_type": "markdown",
   "metadata": {},
   "source": [
    "## First Example, the ```Xor``` case"
   ]
  },
  {
   "cell_type": "markdown",
   "metadata": {},
   "source": [
    "#### Display the Dataset"
   ]
  },
  {
   "cell_type": "code",
   "execution_count": 5,
   "metadata": {
    "collapsed": false
   },
   "outputs": [
    {
     "data": {
      "text/html": [
       "<div>\n",
       "<table border=\"1\" class=\"dataframe\">\n",
       "  <thead>\n",
       "    <tr style=\"text-align: right;\">\n",
       "      <th></th>\n",
       "      <th>X</th>\n",
       "      <th>Y</th>\n",
       "      <th>Output</th>\n",
       "    </tr>\n",
       "  </thead>\n",
       "  <tbody>\n",
       "    <tr>\n",
       "      <th>0</th>\n",
       "      <td>0</td>\n",
       "      <td>0</td>\n",
       "      <td>0</td>\n",
       "    </tr>\n",
       "    <tr>\n",
       "      <th>1</th>\n",
       "      <td>0</td>\n",
       "      <td>1</td>\n",
       "      <td>1</td>\n",
       "    </tr>\n",
       "    <tr>\n",
       "      <th>2</th>\n",
       "      <td>1</td>\n",
       "      <td>0</td>\n",
       "      <td>1</td>\n",
       "    </tr>\n",
       "    <tr>\n",
       "      <th>3</th>\n",
       "      <td>1</td>\n",
       "      <td>1</td>\n",
       "      <td>0</td>\n",
       "    </tr>\n",
       "  </tbody>\n",
       "</table>\n",
       "</div>"
      ],
      "text/plain": [
       "   X  Y  Output\n",
       "0  0  0       0\n",
       "1  0  1       1\n",
       "2  1  0       1\n",
       "3  1  1       0"
      ]
     },
     "execution_count": 5,
     "metadata": {},
     "output_type": "execute_result"
    }
   ],
   "source": [
    "dataset = load_dataset(\"xor.dat\")\n",
    "dataset.head()"
   ]
  },
  {
   "cell_type": "markdown",
   "metadata": {},
   "source": [
    "#### Plot of the Dataset"
   ]
  },
  {
   "cell_type": "code",
   "execution_count": 6,
   "metadata": {
    "collapsed": false
   },
   "outputs": [
    {
     "data": {
      "image/png": "[encoded data removed]",
      "text/plain": [
       "<matplotlib.figure.Figure at 0x7f231f081f60>"
      ]
     },
     "metadata": {},
     "output_type": "display_data"
    }
   ],
   "source": [
    "dataset.plot();"
   ]
  },
  {
   "cell_type": "code",
   "execution_count": 7,
   "metadata": {
    "collapsed": false
   },
   "outputs": [
    {
     "data": {
      "image/png": "[encoded data removed]",
      "text/plain": [
       "<matplotlib.figure.Figure at 0x7f231c8fab00>"
      ]
     },
     "metadata": {},
     "output_type": "display_data"
    }
   ],
   "source": [
    "training_samples, testing_samples, labels_train, labels_test = split_dataset(dataset)\n",
    "\n",
    "colors = [\"red\" if label == 0 else \"blue\" for label in labels_train]\n",
    "\n",
    "plt.figure()\n",
    "plt.scatter(training_samples[:, 0], training_samples[:, 1], s=170, color=colors)\n",
    "\n",
    "plt.xlabel(\"$X$\")\n",
    "plt.ylabel(\"$Y$\")\n",
    "plt.title(\"Plot of XOR\")\n",
    "\n",
    "plt.show()"
   ]
  },
  {
   "cell_type": "code",
   "execution_count": 8,
   "metadata": {
    "collapsed": false
   },
   "outputs": [],
   "source": [
    "clf = MLP(input_layer=2, hidden=2, output=1)\n",
    "clf.fit(training_samples, labels_train)"
   ]
  },
  {
   "cell_type": "code",
   "execution_count": 9,
   "metadata": {
    "collapsed": false
   },
   "outputs": [
    {
     "name": "stdout",
     "output_type": "stream",
     "text": [
      "Convergence: with MSE:0.009999075932332088\n"
     ]
    }
   ],
   "source": [
    "pred = clf.predict(testing_samples)\n",
    "print('Convergence: with MSE:{}'.format(clf.error))"
   ]
  },
  {
   "cell_type": "code",
   "execution_count": 10,
   "metadata": {
    "collapsed": false
   },
   "outputs": [
    {
     "name": "stdout",
     "output_type": "stream",
     "text": [
      "Hidden weights\n",
      "[[ 3.33654087  3.33443798 -5.15946598]\n",
      " [-5.32783051 -5.32921878  1.75698222]]\n",
      "Output weights\n",
      "[[-6.52523112 -6.61128375  3.24450323]]\n"
     ]
    }
   ],
   "source": [
    "print(clf)"
   ]
  },
  {
   "cell_type": "code",
   "execution_count": 11,
   "metadata": {
    "collapsed": false
   },
   "outputs": [
    {
     "data": {
      "text/html": [
       "<div>\n",
       "<table border=\"1\" class=\"dataframe\">\n",
       "  <thead>\n",
       "    <tr style=\"text-align: right;\">\n",
       "      <th></th>\n",
       "      <th>Expected</th>\n",
       "      <th>Obtained</th>\n",
       "    </tr>\n",
       "  </thead>\n",
       "  <tbody>\n",
       "    <tr>\n",
       "      <th>0</th>\n",
       "      <td>0</td>\n",
       "      <td>0.080833</td>\n",
       "    </tr>\n",
       "    <tr>\n",
       "      <th>1</th>\n",
       "      <td>1</td>\n",
       "      <td>0.896408</td>\n",
       "    </tr>\n",
       "    <tr>\n",
       "      <th>2</th>\n",
       "      <td>1</td>\n",
       "      <td>0.896233</td>\n",
       "    </tr>\n",
       "    <tr>\n",
       "      <th>3</th>\n",
       "      <td>0</td>\n",
       "      <td>0.108861</td>\n",
       "    </tr>\n",
       "  </tbody>\n",
       "</table>\n",
       "</div>"
      ],
      "text/plain": [
       "   Expected  Obtained\n",
       "0         0  0.080833\n",
       "1         1  0.896408\n",
       "2         1  0.896233\n",
       "3         0  0.108861"
      ]
     },
     "execution_count": 11,
     "metadata": {},
     "output_type": "execute_result"
    }
   ],
   "source": [
    "pd.DataFrame.from_items([('Expected', labels_test), ('Obtained', pred)])"
   ]
  },
  {
   "cell_type": "code",
   "execution_count": 12,
   "metadata": {
    "collapsed": false
   },
   "outputs": [
    {
     "data": {
      "image/png": "[encoded data removed]",
      "text/plain": [
       "<matplotlib.figure.Figure at 0x7f231f0a26a0>"
      ]
     },
     "metadata": {},
     "output_type": "display_data"
    }
   ],
   "source": [
    "clf.plot_errors()"
   ]
  },
  {
   "cell_type": "markdown",
   "metadata": {},
   "source": [
    "-------------------------------"
   ]
  },
  {
   "cell_type": "markdown",
   "metadata": {},
   "source": [
    "#### :wq"
   ]
  }
 ],
 "metadata": {
  "kernelspec": {
   "display_name": "Python 3",
   "language": "python",
   "name": "python3"
  },
  "language_info": {
   "codemirror_mode": {
    "name": "ipython",
    "version": 3
   },
   "file_extension": ".py",
   "mimetype": "text/x-python",
   "name": "python",
   "nbconvert_exporter": "python",
   "pygments_lexer": "ipython3",
   "version": "3.6.0"
  }
 },
 "nbformat": 4,
 "nbformat_minor": 2
}
